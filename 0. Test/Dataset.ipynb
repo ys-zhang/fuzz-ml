{
    "cells": [
        {
            "cell_type": "code",
            "execution_count": null,
            "source": [
                "# this notebook tinker with tf dataset\r\n",
                "import tensorflow as tf"
            ],
            "outputs": [],
            "metadata": {}
        }
    ],
    "metadata": {
        "orig_nbformat": 4,
        "language_info": {
            "name": "python"
        }
    },
    "nbformat": 4,
    "nbformat_minor": 2
}