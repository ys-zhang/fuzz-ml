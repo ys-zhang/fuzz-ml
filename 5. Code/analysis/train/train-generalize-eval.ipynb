{
    "cells": [
        {
            "cell_type": "code",
            "execution_count": 1,
            "source": [
                "import tensorflow as tf\r\n",
                "from tensorflow import keras\r\n",
                "import numpy as np\r\n",
                "import pprint\r\n",
                "import os\r\n",
                "pp = pprint.PrettyPrinter(indent=4)"
            ],
            "outputs": [],
            "metadata": {}
        },
        {
            "cell_type": "code",
            "execution_count": 2,
            "source": [
                "x_file, y_file = np.load(\"../data/x.npz\"), np.load(\"../data/y.npz\")\r\n",
                "X = x_file['x']\r\n",
                "Y = y_file['y_compress'].astype(np.int8)\r\n",
                "print(f\"X's shape is {X.shape}, Y's shape is {Y.shape}\")\r\n",
                "# _, inv_idx, path_count = np.unique(Y, return_inverse=True, return_counts=True)\r\n",
                "# weight = path_count[inv_idx] / path_count.sum()"
            ],
            "outputs": [
                {
                    "output_type": "stream",
                    "name": "stdout",
                    "text": [
                        "X's shape is (53022, 376), Y's shape is (53022, 2194)\n"
                    ]
                }
            ],
            "metadata": {}
        },
        {
            "cell_type": "code",
            "execution_count": 3,
            "source": [
                "# define the model\r\n",
                "CONV_KERNEL_SZ = 9\r\n",
                "CONV_STRIDE_SZ = 3\r\n",
                "CONV_ACTVATION = \"relu\"\r\n",
                "CONV_CHANNEL = 3\r\n",
                "DROP_OUT_PROB = .25\r\n",
                "DIM_X, DIM_Y = X.shape[1], Y.shape[1]\r\n",
                "\r\n",
                "MODEL_SAVE_DIR = \"../model/test-for-generalization\"\r\n",
                "if os.path.exists(MODEL_SAVE_DIR):\r\n",
                "    model = tf.keras.models.load_model(MODEL_SAVE_DIR)\r\n",
                "else:\r\n",
                "    model = keras.Sequential([\r\n",
                "        keras.layers.Conv1D(CONV_CHANNEL, CONV_KERNEL_SZ, strides=CONV_STRIDE_SZ, activation=CONV_ACTVATION, input_shape=(DIM_X, 1)),\r\n",
                "        keras.layers.Dropout(rate=DROP_OUT_PROB),    \r\n",
                "        keras.layers.Conv1D(CONV_CHANNEL, CONV_KERNEL_SZ, strides=CONV_STRIDE_SZ, activation=CONV_ACTVATION),      \r\n",
                "        # keras.layers.Dropout(rate=DROP_OUT_PROB),\r\n",
                "        # keras.layers.Conv1D(CONV_CHANNEL, CONV_KERNEL_SZ, strides=CONV_STRIDE_SZ, activation=CONV_ACTVATION),\r\n",
                "        keras.layers.Flatten(),  \r\n",
                "        # keras.layers.Dense(4096),\r\n",
                "        keras.layers.Dense(100, activation='relu'),\r\n",
                "        keras.layers.Dense(100, activation='relu'),\r\n",
                "        keras.layers.Dense(DIM_Y, activation='sigmoid')\r\n",
                "    ])\r\n",
                "# model = keras.Sequential([\r\n",
                "#     keras.layers.Dense(DIM_Y, activation='relu', input_dim=DIM_X),\r\n",
                "#     keras.layers.Dense(DIM_Y, activation='relu'),\r\n",
                "# ])\r\n",
                "opt = keras.optimizers.Adam(learning_rate=0.0001)\r\n",
                "# better to use the precision\r\n",
                "model.compile(loss='binary_crossentropy', optimizer=opt, metrics=['binary_accuracy', keras.metrics.Recall(thresholds=0.5)])\r\n",
                "model.summary()"
            ],
            "outputs": [
                {
                    "output_type": "stream",
                    "name": "stdout",
                    "text": [
                        "Model: \"sequential\"\n",
                        "_________________________________________________________________\n",
                        "Layer (type)                 Output Shape              Param #   \n",
                        "=================================================================\n",
                        "conv1d (Conv1D)              (None, 123, 3)            30        \n",
                        "_________________________________________________________________\n",
                        "dropout (Dropout)            (None, 123, 3)            0         \n",
                        "_________________________________________________________________\n",
                        "conv1d_1 (Conv1D)            (None, 39, 3)             84        \n",
                        "_________________________________________________________________\n",
                        "flatten (Flatten)            (None, 117)               0         \n",
                        "_________________________________________________________________\n",
                        "dense (Dense)                (None, 100)               11800     \n",
                        "_________________________________________________________________\n",
                        "dense_1 (Dense)              (None, 100)               10100     \n",
                        "_________________________________________________________________\n",
                        "dense_2 (Dense)              (None, 2194)              221594    \n",
                        "=================================================================\n",
                        "Total params: 243,608\n",
                        "Trainable params: 243,608\n",
                        "Non-trainable params: 0\n",
                        "_________________________________________________________________\n"
                    ]
                }
            ],
            "metadata": {}
        },
        {
            "cell_type": "code",
            "execution_count": 4,
            "source": [
                "X_expand = np.expand_dims(X.astype(np.float32), axis=-1)\r\n",
                "# X_expand = np.expand_dims(X_expand.astype(np.float32), axis=-1)\r\n",
                "data = tf.data.Dataset.from_tensor_slices((X_expand, Y.astype(np.int32)))"
            ],
            "outputs": [],
            "metadata": {}
        },
        {
            "cell_type": "code",
            "execution_count": 5,
            "source": [
                "# data.shuffle(X.shape[0])\r\n",
                "n_train = int(X.shape[0] * 0.5)\r\n",
                "train, test = data.take(n_train), data.skip(n_train)   # 75% split"
            ],
            "outputs": [],
            "metadata": {}
        },
        {
            "cell_type": "code",
            "execution_count": 6,
            "source": [
                "train = train.batch(100)\r\n",
                "valid_data = test\r\n",
                "valid_data = valid_data.batch(100)\r\n",
                "train.element_spec, valid_data.element_spec"
            ],
            "outputs": [
                {
                    "output_type": "execute_result",
                    "data": {
                        "text/plain": [
                            "((TensorSpec(shape=(None, 376, 1), dtype=tf.float32, name=None),\n",
                            "  TensorSpec(shape=(None, 2194), dtype=tf.int32, name=None)),\n",
                            " (TensorSpec(shape=(None, 376, 1), dtype=tf.float32, name=None),\n",
                            "  TensorSpec(shape=(None, 2194), dtype=tf.int32, name=None)))"
                        ]
                    },
                    "metadata": {},
                    "execution_count": 6
                }
            ],
            "metadata": {}
        },
        {
            "cell_type": "code",
            "execution_count": 7,
            "source": [
                "history = model.fit(\r\n",
                "    train,\r\n",
                "    # batch_size=200,\r\n",
                "    epochs=20,\r\n",
                "    validation_data=valid_data\r\n",
                ")"
            ],
            "outputs": [
                {
                    "output_type": "stream",
                    "name": "stdout",
                    "text": [
                        "Epoch 1/20\n",
                        "266/266 [==============================] - 8s 25ms/step - loss: 0.7311 - binary_accuracy: 0.6925 - recall: 0.6524 - val_loss: 0.5100 - val_binary_accuracy: 0.7140 - val_recall: 0.8330\n",
                        "Epoch 2/20\n",
                        "266/266 [==============================] - 6s 22ms/step - loss: 0.4743 - binary_accuracy: 0.7516 - recall: 0.7452 - val_loss: 0.4596 - val_binary_accuracy: 0.7442 - val_recall: 0.8252\n",
                        "Epoch 3/20\n",
                        "266/266 [==============================] - 6s 22ms/step - loss: 0.4430 - binary_accuracy: 0.7554 - recall: 0.7433 - val_loss: 0.4426 - val_binary_accuracy: 0.7545 - val_recall: 0.8129\n",
                        "Epoch 4/20\n",
                        "266/266 [==============================] - 6s 22ms/step - loss: 0.4296 - binary_accuracy: 0.7575 - recall: 0.7381 - val_loss: 0.4358 - val_binary_accuracy: 0.7629 - val_recall: 0.8037\n",
                        "Epoch 5/20\n",
                        "266/266 [==============================] - 6s 22ms/step - loss: 0.4224 - binary_accuracy: 0.7588 - recall: 0.7326 - val_loss: 0.4323 - val_binary_accuracy: 0.7687 - val_recall: 0.7957\n",
                        "Epoch 6/20\n",
                        "266/266 [==============================] - 6s 22ms/step - loss: 0.4182 - binary_accuracy: 0.7602 - recall: 0.7268 - val_loss: 0.4298 - val_binary_accuracy: 0.7756 - val_recall: 0.7865\n",
                        "Epoch 7/20\n",
                        "266/266 [==============================] - 6s 22ms/step - loss: 0.4151 - binary_accuracy: 0.7616 - recall: 0.7199 - val_loss: 0.4281 - val_binary_accuracy: 0.7828 - val_recall: 0.7778\n",
                        "Epoch 8/20\n",
                        "266/266 [==============================] - 6s 23ms/step - loss: 0.4132 - binary_accuracy: 0.7631 - recall: 0.7137 - val_loss: 0.4268 - val_binary_accuracy: 0.7891 - val_recall: 0.7696\n",
                        "Epoch 9/20\n",
                        "266/266 [==============================] - 6s 22ms/step - loss: 0.4116 - binary_accuracy: 0.7641 - recall: 0.7079 - val_loss: 0.4256 - val_binary_accuracy: 0.7961 - val_recall: 0.7610\n",
                        "Epoch 10/20\n",
                        "266/266 [==============================] - 6s 23ms/step - loss: 0.4106 - binary_accuracy: 0.7656 - recall: 0.7021 - val_loss: 0.4249 - val_binary_accuracy: 0.8015 - val_recall: 0.7545\n",
                        "Epoch 11/20\n",
                        "266/266 [==============================] - 6s 22ms/step - loss: 0.4095 - binary_accuracy: 0.7668 - recall: 0.6977 - val_loss: 0.4244 - val_binary_accuracy: 0.8045 - val_recall: 0.7506\n",
                        "Epoch 12/20\n",
                        "266/266 [==============================] - 6s 22ms/step - loss: 0.4089 - binary_accuracy: 0.7678 - recall: 0.6927 - val_loss: 0.4238 - val_binary_accuracy: 0.8071 - val_recall: 0.7461\n",
                        "Epoch 13/20\n",
                        "266/266 [==============================] - 6s 22ms/step - loss: 0.4080 - binary_accuracy: 0.7686 - recall: 0.6890 - val_loss: 0.4228 - val_binary_accuracy: 0.8108 - val_recall: 0.7400\n",
                        "Epoch 14/20\n",
                        "266/266 [==============================] - 6s 23ms/step - loss: 0.4079 - binary_accuracy: 0.7699 - recall: 0.6840 - val_loss: 0.4223 - val_binary_accuracy: 0.8124 - val_recall: 0.7382\n",
                        "Epoch 15/20\n",
                        "266/266 [==============================] - 6s 23ms/step - loss: 0.4073 - binary_accuracy: 0.7708 - recall: 0.6802 - val_loss: 0.4217 - val_binary_accuracy: 0.8137 - val_recall: 0.7367\n",
                        "Epoch 16/20\n",
                        "266/266 [==============================] - 6s 21ms/step - loss: 0.4069 - binary_accuracy: 0.7717 - recall: 0.6764 - val_loss: 0.4212 - val_binary_accuracy: 0.8138 - val_recall: 0.7374\n",
                        "Epoch 17/20\n",
                        "266/266 [==============================] - 7s 27ms/step - loss: 0.4064 - binary_accuracy: 0.7728 - recall: 0.6732 - val_loss: 0.4204 - val_binary_accuracy: 0.8149 - val_recall: 0.7356\n",
                        "Epoch 18/20\n",
                        "266/266 [==============================] - 6s 23ms/step - loss: 0.4060 - binary_accuracy: 0.7734 - recall: 0.6694 - val_loss: 0.4202 - val_binary_accuracy: 0.8149 - val_recall: 0.7358\n",
                        "Epoch 19/20\n",
                        "266/266 [==============================] - 6s 23ms/step - loss: 0.4059 - binary_accuracy: 0.7743 - recall: 0.6664 - val_loss: 0.4200 - val_binary_accuracy: 0.8148 - val_recall: 0.7360\n",
                        "Epoch 20/20\n",
                        "266/266 [==============================] - 6s 23ms/step - loss: 0.4056 - binary_accuracy: 0.7749 - recall: 0.6651 - val_loss: 0.4196 - val_binary_accuracy: 0.8151 - val_recall: 0.7352\n"
                    ]
                }
            ],
            "metadata": {}
        },
        {
            "cell_type": "code",
            "execution_count": 8,
            "source": [
                "model.save(MODEL_SAVE_DIR)"
            ],
            "outputs": [
                {
                    "output_type": "stream",
                    "name": "stdout",
                    "text": [
                        "INFO:tensorflow:Assets written to: ../model/c3d2\\assets\n"
                    ]
                }
            ],
            "metadata": {}
        },
        {
            "cell_type": "code",
            "execution_count": 9,
            "source": [
                "test = test.batch(100)\r\n",
                "eval_results = model.evaluate(test)"
            ],
            "outputs": [
                {
                    "output_type": "stream",
                    "name": "stdout",
                    "text": [
                        "266/266 [==============================] - 3s 8ms/step - loss: 0.4196 - binary_accuracy: 0.8151 - recall: 0.7352\n"
                    ]
                }
            ],
            "metadata": {}
        }
    ],
    "metadata": {
        "orig_nbformat": 4,
        "language_info": {
            "name": "python",
            "version": "3.9.6",
            "mimetype": "text/x-python",
            "codemirror_mode": {
                "name": "ipython",
                "version": 3
            },
            "pygments_lexer": "ipython3",
            "nbconvert_exporter": "python",
            "file_extension": ".py"
        },
        "kernelspec": {
            "name": "python3",
            "display_name": "Python 3.9.6 64-bit ('tf': conda)"
        },
        "interpreter": {
            "hash": "93122b5e6d94795f48a6c7db6a225a5169aecf97758f0d17450d5178db42f6a2"
        }
    },
    "nbformat": 4,
    "nbformat_minor": 2
}