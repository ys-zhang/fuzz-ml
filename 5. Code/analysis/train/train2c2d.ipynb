{
    "cells": [
        {
            "cell_type": "code",
            "execution_count": 1,
            "source": [
                "import tensorflow as tf\r\n",
                "from tensorflow import keras\r\n",
                "import numpy as np\r\n",
                "import pprint\r\n",
                "import os\r\n",
                "pp = pprint.PrettyPrinter(indent=4)"
            ],
            "outputs": [],
            "metadata": {}
        },
        {
            "cell_type": "code",
            "execution_count": 3,
            "source": [
                "x_file, y_file = np.load(\"../data/x.npz\"), np.load(\"../data/y.npz\")\r\n",
                "X = x_file['x']\r\n",
                "Y = y_file['y_compress'].astype(np.int8)\r\n",
                "print(f\"X's shape is {X.shape}, Y's shape is {Y.shape}\")\r\n",
                "# _, inv_idx, path_count = np.unique(Y, return_inverse=True, return_counts=True)\r\n",
                "# weight = path_count[inv_idx] / path_count.sum()"
            ],
            "outputs": [
                {
                    "output_type": "stream",
                    "name": "stdout",
                    "text": [
                        "X's shape is (53022, 376), Y's shape is (53022, 2194)\n"
                    ]
                }
            ],
            "metadata": {}
        },
        {
            "cell_type": "code",
            "execution_count": 4,
            "source": [
                "# define the model\r\n",
                "CONV_KERNEL_SZ = 9\r\n",
                "CONV_STRIDE_SZ = 3\r\n",
                "CONV_ACTVATION = \"relu\"\r\n",
                "CONV_CHANNEL = 3\r\n",
                "DROP_OUT_PROB = .25\r\n",
                "DIM_X, DIM_Y = X.shape[1], Y.shape[1]\r\n",
                "\r\n",
                "MODEL_SAVE_DIR = \"../model/c2d2\"\r\n",
                "if os.path.exists(MODEL_SAVE_DIR):\r\n",
                "    model = tf.keras.models.load_model(MODEL_SAVE_DIR)\r\n",
                "else:\r\n",
                "    model = keras.Sequential([\r\n",
                "        keras.layers.Conv1D(CONV_CHANNEL, CONV_KERNEL_SZ, strides=CONV_STRIDE_SZ, activation=CONV_ACTVATION, input_shape=(DIM_X, 1)),\r\n",
                "        keras.layers.Dropout(rate=DROP_OUT_PROB),    \r\n",
                "        keras.layers.Conv1D(CONV_CHANNEL, CONV_KERNEL_SZ, strides=CONV_STRIDE_SZ, activation=CONV_ACTVATION),      \r\n",
                "        # keras.layers.Dropout(rate=DROP_OUT_PROB),\r\n",
                "        # keras.layers.Conv1D(CONV_CHANNEL, CONV_KERNEL_SZ, strides=CONV_STRIDE_SZ, activation=CONV_ACTVATION),\r\n",
                "        keras.layers.Flatten(),  \r\n",
                "        # keras.layers.Dense(4096),\r\n",
                "        keras.layers.Dense(100, activation='relu'),\r\n",
                "        keras.layers.Dense(100, activation='relu'),\r\n",
                "        keras.layers.Dense(DIM_Y, activation='sigmoid')\r\n",
                "    ])\r\n",
                "# model = keras.Sequential([\r\n",
                "#     keras.layers.Dense(DIM_Y, activation='relu', input_dim=DIM_X),\r\n",
                "#     keras.layers.Dense(DIM_Y, activation='relu'),\r\n",
                "# ])\r\n",
                "opt = keras.optimizers.Adam(learning_rate=0.0001)\r\n",
                "# better to use the precision\r\n",
                "model.compile(loss='binary_crossentropy', optimizer=opt, metrics=['binary_accuracy', keras.metrics.Recall(thresholds=0.5)])\r\n",
                "model.summary()"
            ],
            "outputs": [
                {
                    "output_type": "stream",
                    "name": "stdout",
                    "text": [
                        "Model: \"sequential\"\n",
                        "_________________________________________________________________\n",
                        "Layer (type)                 Output Shape              Param #   \n",
                        "=================================================================\n",
                        "conv1d (Conv1D)              (None, 123, 3)            30        \n",
                        "_________________________________________________________________\n",
                        "dropout (Dropout)            (None, 123, 3)            0         \n",
                        "_________________________________________________________________\n",
                        "conv1d_1 (Conv1D)            (None, 39, 3)             84        \n",
                        "_________________________________________________________________\n",
                        "flatten (Flatten)            (None, 117)               0         \n",
                        "_________________________________________________________________\n",
                        "dense (Dense)                (None, 100)               11800     \n",
                        "_________________________________________________________________\n",
                        "dense_1 (Dense)              (None, 100)               10100     \n",
                        "_________________________________________________________________\n",
                        "dense_2 (Dense)              (None, 2194)              221594    \n",
                        "=================================================================\n",
                        "Total params: 243,608\n",
                        "Trainable params: 243,608\n",
                        "Non-trainable params: 0\n",
                        "_________________________________________________________________\n"
                    ]
                }
            ],
            "metadata": {}
        },
        {
            "cell_type": "code",
            "execution_count": 5,
            "source": [
                "X_expand = np.expand_dims(X.astype(np.float32), axis=-1)\r\n",
                "# X_expand = np.expand_dims(X_expand.astype(np.float32), axis=-1)\r\n",
                "data = tf.data.Dataset.from_tensor_slices((X_expand, Y.astype(np.int32)))"
            ],
            "outputs": [],
            "metadata": {}
        },
        {
            "cell_type": "code",
            "execution_count": 6,
            "source": [
                "data.shuffle(X.shape[0])\r\n",
                "n_train = int(X.shape[0] * 0.75)\r\n",
                "train, test = data.take(n_train), data.skip(n_train)   # 75% split"
            ],
            "outputs": [],
            "metadata": {}
        },
        {
            "cell_type": "code",
            "execution_count": 7,
            "source": [
                "train = train.batch(100)\r\n",
                "valid_data = test\r\n",
                "valid_data = valid_data.batch(100)\r\n",
                "train.element_spec, valid_data.element_spec"
            ],
            "outputs": [
                {
                    "output_type": "execute_result",
                    "data": {
                        "text/plain": [
                            "((TensorSpec(shape=(None, 376, 1), dtype=tf.float32, name=None),\n",
                            "  TensorSpec(shape=(None, 2194), dtype=tf.int32, name=None)),\n",
                            " (TensorSpec(shape=(None, 376, 1), dtype=tf.float32, name=None),\n",
                            "  TensorSpec(shape=(None, 2194), dtype=tf.int32, name=None)))"
                        ]
                    },
                    "metadata": {},
                    "execution_count": 7
                }
            ],
            "metadata": {}
        },
        {
            "cell_type": "code",
            "execution_count": 8,
            "source": [
                "history = model.fit(\r\n",
                "    train,\r\n",
                "    # batch_size=200,\r\n",
                "    epochs=20,\r\n",
                "    validation_data=valid_data\r\n",
                ")"
            ],
            "outputs": [
                {
                    "output_type": "stream",
                    "name": "stdout",
                    "text": [
                        "Epoch 1/20\n",
                        "398/398 [==============================] - 8s 18ms/step - loss: 0.5613 - binary_accuracy: 0.7178 - recall: 0.6993 - val_loss: 0.3907 - val_binary_accuracy: 0.8377 - val_recall: 0.7628\n",
                        "Epoch 2/20\n",
                        "398/398 [==============================] - 7s 17ms/step - loss: 0.4441 - binary_accuracy: 0.7581 - recall: 0.7105 - val_loss: 0.3897 - val_binary_accuracy: 0.8429 - val_recall: 0.7667\n",
                        "Epoch 3/20\n",
                        "398/398 [==============================] - 7s 17ms/step - loss: 0.4309 - binary_accuracy: 0.7650 - recall: 0.6975 - val_loss: 0.3872 - val_binary_accuracy: 0.8465 - val_recall: 0.7643\n",
                        "Epoch 4/20\n",
                        "398/398 [==============================] - 7s 17ms/step - loss: 0.4255 - binary_accuracy: 0.7702 - recall: 0.6854 - val_loss: 0.3857 - val_binary_accuracy: 0.8492 - val_recall: 0.7612\n",
                        "Epoch 5/20\n",
                        "398/398 [==============================] - 7s 17ms/step - loss: 0.4223 - binary_accuracy: 0.7740 - recall: 0.6758 - val_loss: 0.3846 - val_binary_accuracy: 0.8510 - val_recall: 0.7588\n",
                        "Epoch 6/20\n",
                        "398/398 [==============================] - 8s 20ms/step - loss: 0.4205 - binary_accuracy: 0.7768 - recall: 0.6687 - val_loss: 0.3834 - val_binary_accuracy: 0.8519 - val_recall: 0.7574\n",
                        "Epoch 7/20\n",
                        "398/398 [==============================] - 7s 17ms/step - loss: 0.4192 - binary_accuracy: 0.7787 - recall: 0.6637 - val_loss: 0.3830 - val_binary_accuracy: 0.8526 - val_recall: 0.7567\n",
                        "Epoch 8/20\n",
                        "398/398 [==============================] - 7s 17ms/step - loss: 0.4183 - binary_accuracy: 0.7803 - recall: 0.6600 - val_loss: 0.3825 - val_binary_accuracy: 0.8529 - val_recall: 0.7564\n",
                        "Epoch 9/20\n",
                        "398/398 [==============================] - 7s 17ms/step - loss: 0.4174 - binary_accuracy: 0.7814 - recall: 0.6575 - val_loss: 0.3819 - val_binary_accuracy: 0.8532 - val_recall: 0.7559\n",
                        "Epoch 10/20\n",
                        "398/398 [==============================] - 7s 17ms/step - loss: 0.4168 - binary_accuracy: 0.7822 - recall: 0.6552 - val_loss: 0.3816 - val_binary_accuracy: 0.8536 - val_recall: 0.7553\n",
                        "Epoch 11/20\n",
                        "398/398 [==============================] - 7s 17ms/step - loss: 0.4163 - binary_accuracy: 0.7827 - recall: 0.6538 - val_loss: 0.3812 - val_binary_accuracy: 0.8540 - val_recall: 0.7548\n",
                        "Epoch 12/20\n",
                        "398/398 [==============================] - 7s 17ms/step - loss: 0.4159 - binary_accuracy: 0.7831 - recall: 0.6525 - val_loss: 0.3810 - val_binary_accuracy: 0.8543 - val_recall: 0.7544\n",
                        "Epoch 13/20\n",
                        "398/398 [==============================] - 7s 17ms/step - loss: 0.4156 - binary_accuracy: 0.7834 - recall: 0.6514 - val_loss: 0.3806 - val_binary_accuracy: 0.8551 - val_recall: 0.7534\n",
                        "Epoch 14/20\n",
                        "398/398 [==============================] - 7s 17ms/step - loss: 0.4152 - binary_accuracy: 0.7836 - recall: 0.6505 - val_loss: 0.3804 - val_binary_accuracy: 0.8553 - val_recall: 0.7528\n",
                        "Epoch 15/20\n",
                        "398/398 [==============================] - 7s 17ms/step - loss: 0.4149 - binary_accuracy: 0.7837 - recall: 0.6497 - val_loss: 0.3800 - val_binary_accuracy: 0.8558 - val_recall: 0.7521\n",
                        "Epoch 16/20\n",
                        "398/398 [==============================] - 7s 17ms/step - loss: 0.4146 - binary_accuracy: 0.7839 - recall: 0.6489 - val_loss: 0.3798 - val_binary_accuracy: 0.8565 - val_recall: 0.7511\n",
                        "Epoch 17/20\n",
                        "398/398 [==============================] - 7s 17ms/step - loss: 0.4143 - binary_accuracy: 0.7840 - recall: 0.6481 - val_loss: 0.3794 - val_binary_accuracy: 0.8568 - val_recall: 0.7506\n",
                        "Epoch 18/20\n",
                        "398/398 [==============================] - 7s 17ms/step - loss: 0.4143 - binary_accuracy: 0.7840 - recall: 0.6473 - val_loss: 0.3792 - val_binary_accuracy: 0.8572 - val_recall: 0.7502\n",
                        "Epoch 19/20\n",
                        "398/398 [==============================] - 7s 17ms/step - loss: 0.4141 - binary_accuracy: 0.7842 - recall: 0.6466 - val_loss: 0.3790 - val_binary_accuracy: 0.8573 - val_recall: 0.7500\n",
                        "Epoch 20/20\n",
                        "398/398 [==============================] - 7s 18ms/step - loss: 0.4139 - binary_accuracy: 0.7842 - recall: 0.6461 - val_loss: 0.3791 - val_binary_accuracy: 0.8575 - val_recall: 0.7497\n"
                    ]
                }
            ],
            "metadata": {}
        },
        {
            "cell_type": "code",
            "execution_count": 9,
            "source": [
                "model.save(MODEL_SAVE_DIR)"
            ],
            "outputs": [
                {
                    "output_type": "stream",
                    "name": "stdout",
                    "text": [
                        "INFO:tensorflow:Assets written to: ../model/c2d2\\assets\n"
                    ]
                }
            ],
            "metadata": {}
        },
        {
            "cell_type": "code",
            "execution_count": 10,
            "source": [
                "test = test.batch(100)\r\n",
                "eval_results = model.evaluate(test)"
            ],
            "outputs": [
                {
                    "output_type": "stream",
                    "name": "stdout",
                    "text": [
                        "133/133 [==============================] - 1s 8ms/step - loss: 0.3791 - binary_accuracy: 0.8575 - recall: 0.7497\n"
                    ]
                }
            ],
            "metadata": {}
        }
    ],
    "metadata": {
        "orig_nbformat": 4,
        "language_info": {
            "name": "python",
            "version": "3.9.6",
            "mimetype": "text/x-python",
            "codemirror_mode": {
                "name": "ipython",
                "version": 3
            },
            "pygments_lexer": "ipython3",
            "nbconvert_exporter": "python",
            "file_extension": ".py"
        },
        "kernelspec": {
            "name": "python3",
            "display_name": "Python 3.9.6 64-bit ('tf': conda)"
        },
        "interpreter": {
            "hash": "93122b5e6d94795f48a6c7db6a225a5169aecf97758f0d17450d5178db42f6a2"
        }
    },
    "nbformat": 4,
    "nbformat_minor": 2
}