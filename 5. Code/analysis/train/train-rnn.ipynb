{
    "cells": [
        {
            "cell_type": "code",
            "execution_count": 1,
            "source": [
                "import tensorflow as tf\r\n",
                "from tensorflow import keras\r\n",
                "import numpy as np\r\n",
                "import pprint\r\n",
                "import os\r\n",
                "pp = pprint.PrettyPrinter(indent=4)"
            ],
            "outputs": [],
            "metadata": {}
        },
        {
            "cell_type": "code",
            "execution_count": 2,
            "source": [
                "x_file, y_file = np.load(\"../data/x.npz\"), np.load(\"../data/y.npz\")\r\n",
                "X = x_file['x']\r\n",
                "Y = y_file['y_compress'].astype(np.int8)\r\n",
                "print(f\"X's shape is {X.shape}, Y's shape is {Y.shape}\")\r\n",
                "# _, inv_idx, path_count = np.unique(Y, return_inverse=True, return_counts=True)\r\n",
                "# weight = path_count[inv_idx] / path_count.sum()"
            ],
            "outputs": [
                {
                    "output_type": "stream",
                    "name": "stdout",
                    "text": [
                        "X's shape is (53022, 376), Y's shape is (53022, 2194)\n"
                    ]
                }
            ],
            "metadata": {}
        },
        {
            "cell_type": "code",
            "execution_count": 3,
            "source": [
                "# define the model\r\n",
                "CONV_KERNEL_SZ = 9\r\n",
                "CONV_STRIDE_SZ = 1\r\n",
                "CONV_ACTVATION = \"relu\"\r\n",
                "CONV_CHANNEL = 1\r\n",
                "DROP_OUT_PROB = .25\r\n",
                "DIM_X, DIM_Y = X.shape[1], Y.shape[1]\r\n",
                "\r\n",
                "MODEL_SAVE_DIR = \"../model/d2\"\r\n",
                "if os.path.exists(MODEL_SAVE_DIR):\r\n",
                "    model = tf.keras.models.load_model(MODEL_SAVE_DIR)\r\n",
                "else:\r\n",
                "    model = keras.Sequential([\r\n",
                "        # keras.layers.Conv1D(CONV_CHANNEL, CONV_KERNEL_SZ, strides=CONV_STRIDE_SZ, activation=CONV_ACTVATION, input_shape=(DIM_X, 1)),\r\n",
                "        # keras.layers.Dropout(rate=DROP_OUT_PROB),    \r\n",
                "        # keras.layers.Conv1D(CONV_CHANNEL, CONV_KERNEL_SZ, strides=CONV_STRIDE_SZ, activation=CONV_ACTVATION),      \r\n",
                "        # keras.layers.Dropout(rate=DROP_OUT_PROB),\r\n",
                "        # keras.layers.Conv1D(CONV_CHANNEL, CONV_KERNEL_SZ, strides=CONV_STRIDE_SZ, activation=CONV_ACTVATION),\r\n",
                "        # keras.layers.Flatten(),  \r\n",
                "        # # keras.layers.Dense(4096),\r\n",
                "        keras.layers.Input(DIM_X),\r\n",
                "        keras.layers.Dense(100, activation='relu'),\r\n",
                "        keras.layers.Dense(100, activation='relu'),\r\n",
                "        keras.layers.Dense(DIM_Y, activation='sigmoid')\r\n",
                "    ])\r\n",
                "# model = keras.Sequential([\r\n",
                "#     keras.layers.Dense(DIM_Y, activation='relu', input_dim=DIM_X),\r\n",
                "#     keras.layers.Dense(DIM_Y, activation='relu'),\r\n",
                "# ])\r\n",
                "opt = keras.optimizers.Adam(learning_rate=0.0001)\r\n",
                "model.compile(loss='binary_crossentropy', optimizer=opt, metrics=['binary_accuracy', keras.metrics.Recall(thresholds=0.5)])\r\n",
                "model.summary()"
            ],
            "outputs": [
                {
                    "output_type": "stream",
                    "name": "stdout",
                    "text": [
                        "WARNING:tensorflow:Please add `keras.layers.InputLayer` instead of `keras.Input` to Sequential model. `keras.Input` is intended to be used by Functional model.\n",
                        "Model: \"sequential\"\n",
                        "_________________________________________________________________\n",
                        "Layer (type)                 Output Shape              Param #   \n",
                        "=================================================================\n",
                        "dense (Dense)                (None, 100)               37700     \n",
                        "_________________________________________________________________\n",
                        "dense_1 (Dense)              (None, 100)               10100     \n",
                        "_________________________________________________________________\n",
                        "dense_2 (Dense)              (None, 2194)              221594    \n",
                        "=================================================================\n",
                        "Total params: 269,394\n",
                        "Trainable params: 269,394\n",
                        "Non-trainable params: 0\n",
                        "_________________________________________________________________\n"
                    ]
                }
            ],
            "metadata": {}
        },
        {
            "cell_type": "code",
            "execution_count": 4,
            "source": [
                "X_expand = X.astype(np.float32)\r\n",
                "# X_expand = np.expand_dims(X_expand.astype(np.float32), axis=-1)\r\n",
                "data = tf.data.Dataset.from_tensor_slices((X_expand, Y.astype(np.int32)))"
            ],
            "outputs": [],
            "metadata": {}
        },
        {
            "cell_type": "code",
            "execution_count": 5,
            "source": [
                "data.shuffle(X.shape[0])\r\n",
                "n_train = int(X.shape[0] * 0.75)\r\n",
                "train, test = data.take(n_train), data.skip(n_train)   # 75% split"
            ],
            "outputs": [],
            "metadata": {}
        },
        {
            "cell_type": "code",
            "execution_count": 6,
            "source": [
                "train = train.batch(100)\r\n",
                "valid_data = test\r\n",
                "valid_data = valid_data.batch(100)\r\n",
                "train.element_spec, valid_data.element_spec"
            ],
            "outputs": [
                {
                    "output_type": "execute_result",
                    "data": {
                        "text/plain": [
                            "((TensorSpec(shape=(None, 376), dtype=tf.float32, name=None),\n",
                            "  TensorSpec(shape=(None, 2194), dtype=tf.int32, name=None)),\n",
                            " (TensorSpec(shape=(None, 376), dtype=tf.float32, name=None),\n",
                            "  TensorSpec(shape=(None, 2194), dtype=tf.int32, name=None)))"
                        ]
                    },
                    "metadata": {},
                    "execution_count": 6
                }
            ],
            "metadata": {}
        },
        {
            "cell_type": "code",
            "execution_count": 7,
            "source": [
                "model.reset_states()\r\n",
                "history = model.fit(\r\n",
                "    train,\r\n",
                "    epochs=20,\r\n",
                "    validation_data=valid_data\r\n",
                ")"
            ],
            "outputs": [
                {
                    "output_type": "stream",
                    "name": "stdout",
                    "text": [
                        "Epoch 1/20\n",
                        "398/398 [==============================] - 7s 15ms/step - loss: 0.6705 - binary_accuracy: 0.7323 - recall: 0.7126 - val_loss: 0.4302 - val_binary_accuracy: 0.7857 - val_recall: 0.7322\n",
                        "Epoch 2/20\n",
                        "398/398 [==============================] - 6s 14ms/step - loss: 0.4341 - binary_accuracy: 0.7776 - recall: 0.7299 - val_loss: 0.4046 - val_binary_accuracy: 0.8366 - val_recall: 0.7491\n",
                        "Epoch 3/20\n",
                        "398/398 [==============================] - 6s 14ms/step - loss: 0.4228 - binary_accuracy: 0.7763 - recall: 0.7114 - val_loss: 0.3803 - val_binary_accuracy: 0.8501 - val_recall: 0.7553\n",
                        "Epoch 4/20\n",
                        "398/398 [==============================] - 6s 14ms/step - loss: 0.4203 - binary_accuracy: 0.7753 - recall: 0.7106 - val_loss: 0.3781 - val_binary_accuracy: 0.8457 - val_recall: 0.7643\n",
                        "Epoch 5/20\n",
                        "398/398 [==============================] - 6s 14ms/step - loss: 0.4183 - binary_accuracy: 0.7724 - recall: 0.7089 - val_loss: 0.3798 - val_binary_accuracy: 0.8427 - val_recall: 0.7689\n",
                        "Epoch 6/20\n",
                        "398/398 [==============================] - 6s 15ms/step - loss: 0.4174 - binary_accuracy: 0.7724 - recall: 0.7057 - val_loss: 0.3783 - val_binary_accuracy: 0.8509 - val_recall: 0.7579\n",
                        "Epoch 7/20\n",
                        "398/398 [==============================] - 6s 15ms/step - loss: 0.4157 - binary_accuracy: 0.7858 - recall: 0.7030 - val_loss: 0.3784 - val_binary_accuracy: 0.8533 - val_recall: 0.7555\n",
                        "Epoch 8/20\n",
                        "398/398 [==============================] - 6s 15ms/step - loss: 0.4179 - binary_accuracy: 0.7767 - recall: 0.6873 - val_loss: 0.3842 - val_binary_accuracy: 0.8366 - val_recall: 0.7786\n",
                        "Epoch 9/20\n",
                        "398/398 [==============================] - 6s 15ms/step - loss: 0.4168 - binary_accuracy: 0.7747 - recall: 0.6925 - val_loss: 0.3844 - val_binary_accuracy: 0.8385 - val_recall: 0.7763\n",
                        "Epoch 10/20\n",
                        "398/398 [==============================] - 6s 15ms/step - loss: 0.4174 - binary_accuracy: 0.7739 - recall: 0.6828 - val_loss: 0.3844 - val_binary_accuracy: 0.8357 - val_recall: 0.7799\n",
                        "Epoch 11/20\n",
                        "398/398 [==============================] - 6s 15ms/step - loss: 0.4173 - binary_accuracy: 0.7745 - recall: 0.6798 - val_loss: 0.3845 - val_binary_accuracy: 0.8363 - val_recall: 0.7792\n",
                        "Epoch 12/20\n",
                        "398/398 [==============================] - 6s 15ms/step - loss: 0.4172 - binary_accuracy: 0.7738 - recall: 0.6765 - val_loss: 0.3845 - val_binary_accuracy: 0.8363 - val_recall: 0.7790\n",
                        "Epoch 13/20\n",
                        "398/398 [==============================] - 6s 16ms/step - loss: 0.4172 - binary_accuracy: 0.7750 - recall: 0.6750 - val_loss: 0.3846 - val_binary_accuracy: 0.8360 - val_recall: 0.7790\n",
                        "Epoch 14/20\n",
                        "398/398 [==============================] - 6s 15ms/step - loss: 0.4170 - binary_accuracy: 0.7773 - recall: 0.6864 - val_loss: 0.3852 - val_binary_accuracy: 0.8390 - val_recall: 0.7755\n",
                        "Epoch 15/20\n",
                        "398/398 [==============================] - 6s 14ms/step - loss: 0.4168 - binary_accuracy: 0.7793 - recall: 0.6724 - val_loss: 0.3847 - val_binary_accuracy: 0.8376 - val_recall: 0.7767\n",
                        "Epoch 16/20\n",
                        "398/398 [==============================] - 6s 15ms/step - loss: 0.4140 - binary_accuracy: 0.7903 - recall: 0.6924 - val_loss: 0.3748 - val_binary_accuracy: 0.8583 - val_recall: 0.7491\n",
                        "Epoch 17/20\n",
                        "398/398 [==============================] - 6s 15ms/step - loss: 0.4165 - binary_accuracy: 0.7816 - recall: 0.6576 - val_loss: 0.3842 - val_binary_accuracy: 0.8421 - val_recall: 0.7706\n",
                        "Epoch 18/20\n",
                        "398/398 [==============================] - 6s 14ms/step - loss: 0.4165 - binary_accuracy: 0.7826 - recall: 0.6683 - val_loss: 0.3844 - val_binary_accuracy: 0.8398 - val_recall: 0.7739\n",
                        "Epoch 19/20\n",
                        "398/398 [==============================] - 6s 14ms/step - loss: 0.4155 - binary_accuracy: 0.7943 - recall: 0.7134 - val_loss: 0.3690 - val_binary_accuracy: 0.8580 - val_recall: 0.7490\n",
                        "Epoch 20/20\n",
                        "398/398 [==============================] - 6s 14ms/step - loss: 0.4127 - binary_accuracy: 0.7951 - recall: 0.6915 - val_loss: 0.3684 - val_binary_accuracy: 0.8592 - val_recall: 0.7473\n"
                    ]
                }
            ],
            "metadata": {}
        },
        {
            "cell_type": "code",
            "execution_count": 8,
            "source": [
                "model.save(MODEL_SAVE_DIR)"
            ],
            "outputs": [
                {
                    "output_type": "stream",
                    "name": "stdout",
                    "text": [
                        "INFO:tensorflow:Assets written to: ../model/d2\\assets\n"
                    ]
                }
            ],
            "metadata": {}
        },
        {
            "cell_type": "code",
            "execution_count": 9,
            "source": [
                "test = test.batch(100)\r\n",
                "eval_results = model.evaluate(test)"
            ],
            "outputs": [
                {
                    "output_type": "stream",
                    "name": "stdout",
                    "text": [
                        "133/133 [==============================] - 2s 9ms/step - loss: 0.3684 - binary_accuracy: 0.8592 - recall: 0.7473\n"
                    ]
                }
            ],
            "metadata": {}
        }
    ],
    "metadata": {
        "orig_nbformat": 4,
        "language_info": {
            "name": "python",
            "version": "3.9.6",
            "mimetype": "text/x-python",
            "codemirror_mode": {
                "name": "ipython",
                "version": 3
            },
            "pygments_lexer": "ipython3",
            "nbconvert_exporter": "python",
            "file_extension": ".py"
        },
        "kernelspec": {
            "name": "python3",
            "display_name": "Python 3.9.6 64-bit ('tf': conda)"
        },
        "interpreter": {
            "hash": "93122b5e6d94795f48a6c7db6a225a5169aecf97758f0d17450d5178db42f6a2"
        }
    },
    "nbformat": 4,
    "nbformat_minor": 2
}