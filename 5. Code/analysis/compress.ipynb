{
    "cells": [
        {
            "cell_type": "code",
            "execution_count": 2,
            "source": [
                "\"\"\"\r\n",
                "preprocess the extracted inputs and bitmaps\r\n",
                "    1. input and bitmap may have duplicates;\r\n",
                "    2. get unique bitmaps (paths) using SQL\r\n",
                "    3. for each path count how many inputs fall into the path\r\n",
                "    4. transform byte array to numpy ndarray\r\n",
                "    5. store the numpy ndarray to disk as npz file\r\n",
                "\"\"\"\r\n",
                "import preprocess as prep\r\n",
                "import numpy as np\r\n",
                "import sqlite3 as sql\r\n",
                "import os\r\n",
                "\r\n",
                "DB_PATH = prep.DB_PATH       # \"./data/afl.db\"\r\n",
                "RAW_TBL = prep.RAW_TBL       # \"data\"\r\n",
                "PRUNED_TBL = prep.PRUNED_TBL # 'pruned'   # duplicate rows removed\r\n",
                "PATH_TBL = prep.PATH_TBL     # 'path'     # path and count of inputs with bitmap equales to path"
            ],
            "outputs": [],
            "metadata": {}
        },
        {
            "cell_type": "markdown",
            "source": [
                "# 1. REMOVE DUPLICATES and COUNT INPUT for EACH PATH"
            ],
            "metadata": {}
        },
        {
            "cell_type": "code",
            "execution_count": 4,
            "source": [
                "ALL_TABLES = {}\r\n",
                "with sql.connect(DB_PATH) as conn:\r\n",
                "    cur = conn.cursor()\r\n",
                "    cur.execute(\"select tbl_name from sqlite_master where type='table'\")\r\n",
                "    ALL_TABLES = set(x[0] for x in cur.fetchall())\r\n",
                "\r\n",
                "# THIS MAY RUN FOR SEVERAL MINs\r\n",
                "if RAW_TBL in ALL_TABLES:\r\n",
                "    # remove duplicates\r\n",
                "    with sql.connect(DB_PATH) as conn:\r\n",
                "        conn.executescript(\r\n",
                "            f\"\"\" \r\n",
                "            DROP TABLE IF EXISTS {PRUNED_TBL};\r\n",
                "            CREATE TABLE {PRUNED_TBL} (\r\n",
                "                input blob,\r\n",
                "                bitmap blob\r\n",
                "            );\r\n",
                "            DROP TABLE IF EXISTS {PATH_TBL};\r\n",
                "            CREATE TABLE {PATH_TBL} (\r\n",
                "                bitmap blob,\r\n",
                "                freq integer\r\n",
                "            );\r\n",
                "            INSERT INTO {PRUNED_TBL} SELECT DISTINCT input, bitmap FROM {RAW_TBL};\r\n",
                "            DROP TABLE {RAW_TBL};\r\n",
                "            INSERT INTO {PATH_TBL} SELECT bitmap, count(*) FROM {PRUNED_TBL} GROUP BY bitmap;\r\n",
                "            \"\"\"\r\n",
                "        )"
            ],
            "outputs": [],
            "metadata": {}
        },
        {
            "cell_type": "markdown",
            "source": [
                "# 2. EXPORT TO NUMPY FORMAT"
            ],
            "metadata": {}
        },
        {
            "cell_type": "code",
            "execution_count": 3,
            "source": [
                "def save_to_np_file(x_file, y_file, path_file):\r\n",
                "    df_inputs = prep.read_db(DB_PATH, PRUNED_TBL)\r\n",
                "    df_paths = prep.read_db(DB_PATH, PATH_TBL)\r\n",
                "    mat_bitmap_orig = np.array([np.frombuffer(buf, dtype=np.uint8) for buf in df_inputs.bitmap])\r\n",
                "    se_inputs = df_inputs.input\r\n",
                "    del df_inputs\r\n",
                "    # calculate edge mask\r\n",
                "    mat_path = np.array([np.frombuffer(buf, dtype=np.uint8) for buf in df_paths.bitmap])\r\n",
                "    edge_hit = mat_path.sum(0) > 0\r\n",
                "    mat_path_compress = mat_path[:, edge_hit]\r\n",
                "    mat_bitmap_compress = mat_bitmap_orig[:, edge_hit]\r\n",
                "    mat_flag_bitmap_compress = mat_bitmap_compress > 0\r\n",
                "    np.savez_compressed(y_file, y_orig = mat_bitmap_compress, y_compress = mat_flag_bitmap_compress)\r\n",
                "    input_lst = [np.frombuffer(buf, dtype=np.byte) for buf in se_inputs]\r\n",
                "    mat_input = np.array(input_lst)\r\n",
                "    np.savez_compressed(x_file,x=mat_input)\r\n",
                "    np.savez_compressed(path_file, path=mat_path_compress, input_count=df_paths.freq.values)\r\n",
                "\r\n",
                "\r\n",
                "X_FILE_NAME = prep.X_FILE_NAME\r\n",
                "Y_FILE_NAME = prep.Y_FILE_NAME\r\n",
                "PATH_FILE_NAME = prep.PATH_FILE_NAME\r\n",
                "\r\n",
                "if not os.path.exists(Y_FILE_NAME):\r\n",
                "    save_to_np_file(X_FILE_NAME, Y_FILE_NAME, PATH_FILE_NAME)\r\n"
            ],
            "outputs": [],
            "metadata": {}
        }
    ],
    "metadata": {
        "orig_nbformat": 4,
        "language_info": {
            "name": "python",
            "version": "3.8.5",
            "mimetype": "text/x-python",
            "codemirror_mode": {
                "name": "ipython",
                "version": 3
            },
            "pygments_lexer": "ipython3",
            "nbconvert_exporter": "python",
            "file_extension": ".py"
        },
        "kernelspec": {
            "name": "python3",
            "display_name": "Python 3.8.5 64-bit ('ml': conda)"
        },
        "interpreter": {
            "hash": "d01cd1fc9841c18ea12b3c3734a249f418949ba10f6956d05788b1be6130084a"
        }
    },
    "nbformat": 4,
    "nbformat_minor": 2
}